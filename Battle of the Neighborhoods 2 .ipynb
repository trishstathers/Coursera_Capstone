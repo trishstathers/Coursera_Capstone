{
    "cells": [
        {
            "metadata": {},
            "cell_type": "markdown",
            "source": "## Where to Start a Cannabis Company: Kelowna or Kamloops, BC?\n\n1.\tA description of the problem and a discussion of the background. (15 marks)\n\n**Introduction\n\nA business owner is interested in participating in the relatively newly legal business of selling cannabis products in Canada, specifically in either the cities of Kelowna or Kamloops.\n\nKelowna, BC has a population of roughly 140,000 residents.  Kamloops, BC has a population of roughly 90,000 residents. \n\nThe roll-out of cannabis businesses has been protracted due to heavy regulations at the by-law, provincial and federal level.  Therefore there are still relatively few legal cannabis outlets serving large population bases, especially when considering outlying areas and tourism.\n\n**Business Problem\n\nThe business owner would like to use Foursquare information to determine the presence of competitors in the area to determine which city will be the better location in which to start a cannabis store. The metric used will be the presence of current competitors within 50km of the potential area. \n\n\n2.\tA description of the data and how it will be used to solve the problem. (15 marks)\n\nFoursquare is a location data provider used extensively by companies such as Uber, Apple Maps, Snapchat and Twitter.  Foursqure is a rich data source for geospatial information such as business locations, such as cannabis stores.  \n\nUsing Foursquare, I will query venues identified as \"Cannabis\" to dtermine the name, category, ID and location.  Using the latitude and longitude information, I will use Folium to map the geographical location and count the number of cannabis stores in Kamloops and Kelowna to determine which city has fewer providers.  This geospatial data should provide a good indication of which city would be a better location for a cannabis store.   \n",
            "attachments": {}
        },
        {
            "metadata": {},
            "cell_type": "code",
            "source": "import requests # library to handle requests\nimport pandas as pd # library for data analsysis\nimport numpy as np # library to handle data in a vectorized manner\nimport random # library for random number generation\n\n!conda install -c conda-forge geopy --yes \nfrom geopy.geocoders import Nominatim # module to convert an address into latitude and longitude values\n\n# libraries for displaying images\nfrom IPython.display import Image \nfrom IPython.core.display import HTML \n    \n# tranforming json file into a pandas dataframe library\nfrom pandas.io.json import json_normalize\n\n!conda install -c conda-forge folium=0.5.0 --yes\nimport folium # plotting library\n\nprint('Folium installed')\nprint('Libraries imported.')",
            "execution_count": 1,
            "outputs": [
                {
                    "output_type": "stream",
                    "text": "Solving environment: | ^C\nfailed\n\nCondaError: KeyboardInterrupt\n\nSolving environment: done\n\n## Package Plan ##\n\n  environment location: /opt/conda/envs/Python36\n\n  added / updated specs: \n    - folium=0.5.0\n\n\nThe following packages will be downloaded:\n\n    package                    |            build\n    ---------------------------|-----------------\n    altair-4.1.0               |             py_1         614 KB  conda-forge\n    openssl-1.1.1g             |       h516909a_0         2.1 MB  conda-forge\n    folium-0.5.0               |             py_0          45 KB  conda-forge\n    vincent-0.4.4              |             py_1          28 KB  conda-forge\n    ca-certificates-2020.6.20  |       hecda079_0         145 KB  conda-forge\n    python_abi-3.6             |          1_cp36m           4 KB  conda-forge\n    branca-0.4.1               |             py_0          26 KB  conda-forge\n    certifi-2020.6.20          |   py36h9f0ad1d_0         151 KB  conda-forge\n    ------------------------------------------------------------\n                                           Total:         3.1 MB\n\nThe following NEW packages will be INSTALLED:\n\n    altair:          4.1.0-py_1        conda-forge\n    branca:          0.4.1-py_0        conda-forge\n    folium:          0.5.0-py_0        conda-forge\n    python_abi:      3.6-1_cp36m       conda-forge\n    vincent:         0.4.4-py_1        conda-forge\n\nThe following packages will be UPDATED:\n\n    certifi:         2020.6.20-py36_0              --> 2020.6.20-py36h9f0ad1d_0 conda-forge\n    openssl:         1.1.1g-h7b6447c_0             --> 1.1.1g-h516909a_0        conda-forge\n\nThe following packages will be DOWNGRADED:\n\n    ca-certificates: 2020.6.24-0                   --> 2020.6.20-hecda079_0     conda-forge\n\n\nDownloading and Extracting Packages\naltair-4.1.0         | 614 KB    | ##################################### | 100% \nopenssl-1.1.1g       | 2.1 MB    | ##################################### | 100% \nfolium-0.5.0         | 45 KB     | ##################################### | 100% \nvincent-0.4.4        | 28 KB     | ##################################### | 100% \nca-certificates-2020 | 145 KB    | ##################################### | 100% \npython_abi-3.6       | 4 KB      | ##################################### | 100% \nbranca-0.4.1         | 26 KB     | ##################################### | 100% \ncertifi-2020.6.20    | 151 KB    | ##################################### | 100% \nPreparing transaction: done\nVerifying transaction: done\nExecuting transaction: done\nFolium installed\nLibraries imported.\n",
                    "name": "stdout"
                }
            ]
        },
        {
            "metadata": {},
            "cell_type": "code",
            "source": "CLIENT_ID = 'PEXIGFX3LYJO0WGLAJDNIRXPCSZBKGMZS5WC4VGOC3SL3PMA' # your Foursquare ID\nCLIENT_SECRET = 'BYEXMZSBUST4E5VQSJMATBRTWWACBGSPWTAGJNIONDZGEJSO' # your Foursquare Secret\nVERSION = '20180604'\nLIMIT = 30\nprint('Your credentails:')\nprint('CLIENT_ID: ' + CLIENT_ID)\nprint('CLIENT_SECRET:' + CLIENT_SECRET)",
            "execution_count": 5,
            "outputs": [
                {
                    "output_type": "stream",
                    "text": "Your credentails:\nCLIENT_ID: PEXIGFX3LYJO0WGLAJDNIRXPCSZBKGMZS5WC4VGOC3SL3PMA\nCLIENT_SECRET:BYEXMZSBUST4E5VQSJMATBRTWWACBGSPWTAGJNIONDZGEJSO\n",
                    "name": "stdout"
                }
            ]
        },
        {
            "metadata": {},
            "cell_type": "markdown",
            "source": "### Find the number of cannabis stores within 50km of Kelowna BC"
        },
        {
            "metadata": {},
            "cell_type": "code",
            "source": "#Address is a busy downtown location in Kelowna BC \n\naddress = '1455 Harvey Ave, Kelowna, BC'\ngeolocator = Nominatim(user_agent=\"foursquare_agent\")\nlocation = geolocator.geocode(address)\nlatitude = location.latitude\nlongitude = location.longitude\nprint(latitude, longitude)",
            "execution_count": 2,
            "outputs": [
                {
                    "output_type": "stream",
                    "text": "49.88341 -119.4754241\n",
                    "name": "stdout"
                }
            ]
        },
        {
            "metadata": {},
            "cell_type": "code",
            "source": "search_query = 'Cannabis'\nradius = 50000\nprint(search_query + ' .... OK!')",
            "execution_count": 3,
            "outputs": [
                {
                    "output_type": "stream",
                    "text": "Cannabis .... OK!\n",
                    "name": "stdout"
                }
            ]
        },
        {
            "metadata": {},
            "cell_type": "code",
            "source": "url = 'https://api.foursquare.com/v2/venues/search?client_id={}&client_secret={}&ll={},{}&v={}&query={}&radius={}&limit={}'.format(CLIENT_ID, CLIENT_SECRET, latitude, longitude, VERSION, search_query, radius, LIMIT)\nurl",
            "execution_count": 6,
            "outputs": [
                {
                    "output_type": "execute_result",
                    "execution_count": 6,
                    "data": {
                        "text/plain": "'https://api.foursquare.com/v2/venues/search?client_id=PEXIGFX3LYJO0WGLAJDNIRXPCSZBKGMZS5WC4VGOC3SL3PMA&client_secret=BYEXMZSBUST4E5VQSJMATBRTWWACBGSPWTAGJNIONDZGEJSO&ll=49.88341,-119.4754241&v=20180604&query=Cannabis&radius=50000&limit=30'"
                    },
                    "metadata": {}
                }
            ]
        },
        {
            "metadata": {},
            "cell_type": "code",
            "source": "results = requests.get(url).json()\nresults",
            "execution_count": 7,
            "outputs": [
                {
                    "output_type": "execute_result",
                    "execution_count": 7,
                    "data": {
                        "text/plain": "{'meta': {'code': 200, 'requestId': '5f0cc262c5cc8e0e20c1ef59'},\n 'response': {'venues': [{'id': '5e432ebecbbf11000847d71b',\n    'name': 'Cheeba Cheebas Premium Cannabis',\n    'location': {'address': '140 Rutland Road South',\n     'lat': 49.8883842,\n     'lng': -119.3872092,\n     'labeledLatLngs': [{'label': 'display',\n       'lat': 49.8883842,\n       'lng': -119.3872092}],\n     'distance': 6351,\n     'postalCode': 'V1X 2Z4',\n     'cc': 'CA',\n     'city': 'Kelowna',\n     'state': 'BC',\n     'country': 'Canada',\n     'formattedAddress': ['140 Rutland Road South',\n      'Kelowna BC V1X 2Z4',\n      'Canada']},\n    'categories': [{'id': '52c71aaf3cf9994f4e043d17',\n      'name': 'Marijuana Dispensary',\n      'pluralName': 'Marijuana Dispensaries',\n      'shortName': 'Dispensary',\n      'icon': {'prefix': 'https://ss3.4sqi.net/img/categories_v2/shops/dispensary_',\n       'suffix': '.png'},\n      'primary': True}],\n    'referralId': 'v-1594671702',\n    'hasPerk': False},\n   {'id': '5de18752473c62000801958d',\n    'name': 'Oakum Cannabis',\n    'location': {'lat': 49.930338,\n     'lng': -119.388395,\n     'labeledLatLngs': [{'label': 'display',\n       'lat': 49.930338,\n       'lng': -119.388395}],\n     'distance': 8137,\n     'postalCode': 'V1X 7S2',\n     'cc': 'CA',\n     'city': 'Kelowna',\n     'state': 'BC',\n     'country': 'Canada',\n     'formattedAddress': ['Kelowna BC V1X 7S2', 'Canada']},\n    'categories': [{'id': '52e81612bcbc57f1066b7a22',\n      'name': 'Botanical Garden',\n      'pluralName': 'Botanical Gardens',\n      'shortName': 'Botanical Garden',\n      'icon': {'prefix': 'https://ss3.4sqi.net/img/categories_v2/parks_outdoors/botanicalgarden_',\n       'suffix': '.png'},\n      'primary': True}],\n    'referralId': 'v-1594671702',\n    'hasPerk': False},\n   {'id': '5e503a7d8fde1a00070a586a',\n    'name': 'BC Cannabis Store WGE',\n    'location': {'address': 'Unit 106-2210 Main Street',\n     'lat': 49.4733,\n     'lng': -119.58085,\n     'labeledLatLngs': [{'label': 'display',\n       'lat': 49.4733,\n       'lng': -119.58085}],\n     'distance': 46280,\n     'postalCode': 'V2A 5H8',\n     'cc': 'CA',\n     'city': 'Penticton',\n     'state': 'BC',\n     'country': 'Canada',\n     'formattedAddress': ['Unit 106-2210 Main Street',\n      'Penticton BC V2A 5H8',\n      'Canada']},\n    'categories': [{'id': '52e81612bcbc57f1066b7a3c',\n      'name': 'Alternative Healer',\n      'pluralName': 'Alternative Healers',\n      'shortName': 'Alternative Healer',\n      'icon': {'prefix': 'https://ss3.4sqi.net/img/categories_v2/building/medical_doctorsoffice_',\n       'suffix': '.png'},\n      'primary': True}],\n    'referralId': 'v-1594671702',\n    'hasPerk': False},\n   {'id': '5db92b809708410007a39085',\n    'name': 'Cannabis Cottage',\n    'location': {'address': '385 Martin St',\n     'lat': 49.4971498,\n     'lng': -119.5932373,\n     'labeledLatLngs': [{'label': 'display',\n       'lat': 49.4971498,\n       'lng': -119.5932373}],\n     'distance': 43827,\n     'postalCode': 'V2A 5K6',\n     'cc': 'CA',\n     'city': 'Penticton',\n     'state': 'BC',\n     'country': 'Canada',\n     'formattedAddress': ['385 Martin St', 'Penticton BC V2A 5K6', 'Canada']},\n    'categories': [{'id': '4bf58dd8d48988d196941735',\n      'name': 'Hospital',\n      'pluralName': 'Hospitals',\n      'shortName': 'Hospital',\n      'icon': {'prefix': 'https://ss3.4sqi.net/img/categories_v2/building/medical_',\n       'suffix': '.png'},\n      'primary': True}],\n    'venuePage': {'id': '565412625'},\n    'referralId': 'v-1594671702',\n    'hasPerk': False},\n   {'id': '5ea378502ad6790008be897d',\n    'name': 'Cheeba Cheebas Premium Cannabis',\n    'location': {'address': '1812 Byland Rd #1',\n     'lat': 49.835519021347906,\n     'lng': -120.00836563136544,\n     'labeledLatLngs': [{'label': 'display',\n       'lat': 49.835519021347906,\n       'lng': -120.00836563136544}],\n     'distance': 38615,\n     'postalCode': 'V1Z 1A9',\n     'cc': 'CA',\n     'city': 'W Kelowna',\n     'state': 'BC',\n     'country': 'Canada',\n     'formattedAddress': ['1812 Byland Rd #1',\n      'W Kelowna BC V1Z 1A9',\n      'Canada']},\n    'categories': [{'id': '52c71aaf3cf9994f4e043d17',\n      'name': 'Marijuana Dispensary',\n      'pluralName': 'Marijuana Dispensaries',\n      'shortName': 'Dispensary',\n      'icon': {'prefix': 'https://ss3.4sqi.net/img/categories_v2/shops/dispensary_',\n       'suffix': '.png'},\n      'primary': True}],\n    'referralId': 'v-1594671702',\n    'hasPerk': False}]}}"
                    },
                    "metadata": {}
                }
            ]
        },
        {
            "metadata": {},
            "cell_type": "code",
            "source": "# assign relevant part of JSON to venues\nvenues = results['response']['venues']\n\n# tranform venues into a dataframe\ndataframe = json_normalize(venues)\ndataframe.head()",
            "execution_count": 8,
            "outputs": [
                {
                    "output_type": "execute_result",
                    "execution_count": 8,
                    "data": {
                        "text/plain": "                                          categories  hasPerk  \\\n0  [{'id': '52c71aaf3cf9994f4e043d17', 'name': 'M...    False   \n1  [{'id': '52e81612bcbc57f1066b7a22', 'name': 'B...    False   \n2  [{'id': '52e81612bcbc57f1066b7a3c', 'name': 'A...    False   \n3  [{'id': '4bf58dd8d48988d196941735', 'name': 'H...    False   \n4  [{'id': '52c71aaf3cf9994f4e043d17', 'name': 'M...    False   \n\n                         id           location.address location.cc  \\\n0  5e432ebecbbf11000847d71b     140 Rutland Road South          CA   \n1  5de18752473c62000801958d                        NaN          CA   \n2  5e503a7d8fde1a00070a586a  Unit 106-2210 Main Street          CA   \n3  5db92b809708410007a39085              385 Martin St          CA   \n4  5ea378502ad6790008be897d          1812 Byland Rd #1          CA   \n\n  location.city location.country  location.distance  \\\n0       Kelowna           Canada               6351   \n1       Kelowna           Canada               8137   \n2     Penticton           Canada              46280   \n3     Penticton           Canada              43827   \n4     W Kelowna           Canada              38615   \n\n                           location.formattedAddress  \\\n0  [140 Rutland Road South, Kelowna BC V1X 2Z4, C...   \n1                       [Kelowna BC V1X 7S2, Canada]   \n2  [Unit 106-2210 Main Street, Penticton BC V2A 5...   \n3      [385 Martin St, Penticton BC V2A 5K6, Canada]   \n4  [1812 Byland Rd #1, W Kelowna BC V1Z 1A9, Canada]   \n\n                             location.labeledLatLngs  location.lat  \\\n0  [{'label': 'display', 'lat': 49.8883842, 'lng'...     49.888384   \n1  [{'label': 'display', 'lat': 49.930338, 'lng':...     49.930338   \n2  [{'label': 'display', 'lat': 49.4733, 'lng': -...     49.473300   \n3  [{'label': 'display', 'lat': 49.4971498, 'lng'...     49.497150   \n4  [{'label': 'display', 'lat': 49.83551902134790...     49.835519   \n\n   location.lng location.postalCode location.state  \\\n0   -119.387209             V1X 2Z4             BC   \n1   -119.388395             V1X 7S2             BC   \n2   -119.580850             V2A 5H8             BC   \n3   -119.593237             V2A 5K6             BC   \n4   -120.008366             V1Z 1A9             BC   \n\n                              name    referralId venuePage.id  \n0  Cheeba Cheebas Premium Cannabis  v-1594671702          NaN  \n1                   Oakum Cannabis  v-1594671702          NaN  \n2            BC Cannabis Store WGE  v-1594671702          NaN  \n3                 Cannabis Cottage  v-1594671702    565412625  \n4  Cheeba Cheebas Premium Cannabis  v-1594671702          NaN  ",
                        "text/html": "<div>\n<style scoped>\n    .dataframe tbody tr th:only-of-type {\n        vertical-align: middle;\n    }\n\n    .dataframe tbody tr th {\n        vertical-align: top;\n    }\n\n    .dataframe thead th {\n        text-align: right;\n    }\n</style>\n<table border=\"1\" class=\"dataframe\">\n  <thead>\n    <tr style=\"text-align: right;\">\n      <th></th>\n      <th>categories</th>\n      <th>hasPerk</th>\n      <th>id</th>\n      <th>location.address</th>\n      <th>location.cc</th>\n      <th>location.city</th>\n      <th>location.country</th>\n      <th>location.distance</th>\n      <th>location.formattedAddress</th>\n      <th>location.labeledLatLngs</th>\n      <th>location.lat</th>\n      <th>location.lng</th>\n      <th>location.postalCode</th>\n      <th>location.state</th>\n      <th>name</th>\n      <th>referralId</th>\n      <th>venuePage.id</th>\n    </tr>\n  </thead>\n  <tbody>\n    <tr>\n      <th>0</th>\n      <td>[{'id': '52c71aaf3cf9994f4e043d17', 'name': 'M...</td>\n      <td>False</td>\n      <td>5e432ebecbbf11000847d71b</td>\n      <td>140 Rutland Road South</td>\n      <td>CA</td>\n      <td>Kelowna</td>\n      <td>Canada</td>\n      <td>6351</td>\n      <td>[140 Rutland Road South, Kelowna BC V1X 2Z4, C...</td>\n      <td>[{'label': 'display', 'lat': 49.8883842, 'lng'...</td>\n      <td>49.888384</td>\n      <td>-119.387209</td>\n      <td>V1X 2Z4</td>\n      <td>BC</td>\n      <td>Cheeba Cheebas Premium Cannabis</td>\n      <td>v-1594671702</td>\n      <td>NaN</td>\n    </tr>\n    <tr>\n      <th>1</th>\n      <td>[{'id': '52e81612bcbc57f1066b7a22', 'name': 'B...</td>\n      <td>False</td>\n      <td>5de18752473c62000801958d</td>\n      <td>NaN</td>\n      <td>CA</td>\n      <td>Kelowna</td>\n      <td>Canada</td>\n      <td>8137</td>\n      <td>[Kelowna BC V1X 7S2, Canada]</td>\n      <td>[{'label': 'display', 'lat': 49.930338, 'lng':...</td>\n      <td>49.930338</td>\n      <td>-119.388395</td>\n      <td>V1X 7S2</td>\n      <td>BC</td>\n      <td>Oakum Cannabis</td>\n      <td>v-1594671702</td>\n      <td>NaN</td>\n    </tr>\n    <tr>\n      <th>2</th>\n      <td>[{'id': '52e81612bcbc57f1066b7a3c', 'name': 'A...</td>\n      <td>False</td>\n      <td>5e503a7d8fde1a00070a586a</td>\n      <td>Unit 106-2210 Main Street</td>\n      <td>CA</td>\n      <td>Penticton</td>\n      <td>Canada</td>\n      <td>46280</td>\n      <td>[Unit 106-2210 Main Street, Penticton BC V2A 5...</td>\n      <td>[{'label': 'display', 'lat': 49.4733, 'lng': -...</td>\n      <td>49.473300</td>\n      <td>-119.580850</td>\n      <td>V2A 5H8</td>\n      <td>BC</td>\n      <td>BC Cannabis Store WGE</td>\n      <td>v-1594671702</td>\n      <td>NaN</td>\n    </tr>\n    <tr>\n      <th>3</th>\n      <td>[{'id': '4bf58dd8d48988d196941735', 'name': 'H...</td>\n      <td>False</td>\n      <td>5db92b809708410007a39085</td>\n      <td>385 Martin St</td>\n      <td>CA</td>\n      <td>Penticton</td>\n      <td>Canada</td>\n      <td>43827</td>\n      <td>[385 Martin St, Penticton BC V2A 5K6, Canada]</td>\n      <td>[{'label': 'display', 'lat': 49.4971498, 'lng'...</td>\n      <td>49.497150</td>\n      <td>-119.593237</td>\n      <td>V2A 5K6</td>\n      <td>BC</td>\n      <td>Cannabis Cottage</td>\n      <td>v-1594671702</td>\n      <td>565412625</td>\n    </tr>\n    <tr>\n      <th>4</th>\n      <td>[{'id': '52c71aaf3cf9994f4e043d17', 'name': 'M...</td>\n      <td>False</td>\n      <td>5ea378502ad6790008be897d</td>\n      <td>1812 Byland Rd #1</td>\n      <td>CA</td>\n      <td>W Kelowna</td>\n      <td>Canada</td>\n      <td>38615</td>\n      <td>[1812 Byland Rd #1, W Kelowna BC V1Z 1A9, Canada]</td>\n      <td>[{'label': 'display', 'lat': 49.83551902134790...</td>\n      <td>49.835519</td>\n      <td>-120.008366</td>\n      <td>V1Z 1A9</td>\n      <td>BC</td>\n      <td>Cheeba Cheebas Premium Cannabis</td>\n      <td>v-1594671702</td>\n      <td>NaN</td>\n    </tr>\n  </tbody>\n</table>\n</div>"
                    },
                    "metadata": {}
                }
            ]
        },
        {
            "metadata": {},
            "cell_type": "code",
            "source": "# keep only columns that include venue name, and anything that is associated with location\nfiltered_columns = ['name', 'categories'] + [col for col in dataframe.columns if col.startswith('location.')] + ['id']\ndataframe_filtered = dataframe.loc[:, filtered_columns]\n\n# function that extracts the category of the venue\ndef get_category_type(row):\n    try:\n        categories_list = row['categories']\n    except:\n        categories_list = row['venue.categories']\n        \n    if len(categories_list) == 0:\n        return None\n    else:\n        return categories_list[0]['name']\n\n# filter the category for each row\ndataframe_filtered['categories'] = dataframe_filtered.apply(get_category_type, axis=1)\n\n# clean column names by keeping only last term\ndataframe_filtered.columns = [column.split('.')[-1] for column in dataframe_filtered.columns]\n\ndataframe_filtered",
            "execution_count": 9,
            "outputs": [
                {
                    "output_type": "execute_result",
                    "execution_count": 9,
                    "data": {
                        "text/plain": "                              name            categories  \\\n0  Cheeba Cheebas Premium Cannabis  Marijuana Dispensary   \n1                   Oakum Cannabis      Botanical Garden   \n2            BC Cannabis Store WGE    Alternative Healer   \n3                 Cannabis Cottage              Hospital   \n4  Cheeba Cheebas Premium Cannabis  Marijuana Dispensary   \n\n                     address  cc       city country  distance  \\\n0     140 Rutland Road South  CA    Kelowna  Canada      6351   \n1                        NaN  CA    Kelowna  Canada      8137   \n2  Unit 106-2210 Main Street  CA  Penticton  Canada     46280   \n3              385 Martin St  CA  Penticton  Canada     43827   \n4          1812 Byland Rd #1  CA  W Kelowna  Canada     38615   \n\n                                    formattedAddress  \\\n0  [140 Rutland Road South, Kelowna BC V1X 2Z4, C...   \n1                       [Kelowna BC V1X 7S2, Canada]   \n2  [Unit 106-2210 Main Street, Penticton BC V2A 5...   \n3      [385 Martin St, Penticton BC V2A 5K6, Canada]   \n4  [1812 Byland Rd #1, W Kelowna BC V1Z 1A9, Canada]   \n\n                                      labeledLatLngs        lat         lng  \\\n0  [{'label': 'display', 'lat': 49.8883842, 'lng'...  49.888384 -119.387209   \n1  [{'label': 'display', 'lat': 49.930338, 'lng':...  49.930338 -119.388395   \n2  [{'label': 'display', 'lat': 49.4733, 'lng': -...  49.473300 -119.580850   \n3  [{'label': 'display', 'lat': 49.4971498, 'lng'...  49.497150 -119.593237   \n4  [{'label': 'display', 'lat': 49.83551902134790...  49.835519 -120.008366   \n\n  postalCode state                        id  \n0    V1X 2Z4    BC  5e432ebecbbf11000847d71b  \n1    V1X 7S2    BC  5de18752473c62000801958d  \n2    V2A 5H8    BC  5e503a7d8fde1a00070a586a  \n3    V2A 5K6    BC  5db92b809708410007a39085  \n4    V1Z 1A9    BC  5ea378502ad6790008be897d  ",
                        "text/html": "<div>\n<style scoped>\n    .dataframe tbody tr th:only-of-type {\n        vertical-align: middle;\n    }\n\n    .dataframe tbody tr th {\n        vertical-align: top;\n    }\n\n    .dataframe thead th {\n        text-align: right;\n    }\n</style>\n<table border=\"1\" class=\"dataframe\">\n  <thead>\n    <tr style=\"text-align: right;\">\n      <th></th>\n      <th>name</th>\n      <th>categories</th>\n      <th>address</th>\n      <th>cc</th>\n      <th>city</th>\n      <th>country</th>\n      <th>distance</th>\n      <th>formattedAddress</th>\n      <th>labeledLatLngs</th>\n      <th>lat</th>\n      <th>lng</th>\n      <th>postalCode</th>\n      <th>state</th>\n      <th>id</th>\n    </tr>\n  </thead>\n  <tbody>\n    <tr>\n      <th>0</th>\n      <td>Cheeba Cheebas Premium Cannabis</td>\n      <td>Marijuana Dispensary</td>\n      <td>140 Rutland Road South</td>\n      <td>CA</td>\n      <td>Kelowna</td>\n      <td>Canada</td>\n      <td>6351</td>\n      <td>[140 Rutland Road South, Kelowna BC V1X 2Z4, C...</td>\n      <td>[{'label': 'display', 'lat': 49.8883842, 'lng'...</td>\n      <td>49.888384</td>\n      <td>-119.387209</td>\n      <td>V1X 2Z4</td>\n      <td>BC</td>\n      <td>5e432ebecbbf11000847d71b</td>\n    </tr>\n    <tr>\n      <th>1</th>\n      <td>Oakum Cannabis</td>\n      <td>Botanical Garden</td>\n      <td>NaN</td>\n      <td>CA</td>\n      <td>Kelowna</td>\n      <td>Canada</td>\n      <td>8137</td>\n      <td>[Kelowna BC V1X 7S2, Canada]</td>\n      <td>[{'label': 'display', 'lat': 49.930338, 'lng':...</td>\n      <td>49.930338</td>\n      <td>-119.388395</td>\n      <td>V1X 7S2</td>\n      <td>BC</td>\n      <td>5de18752473c62000801958d</td>\n    </tr>\n    <tr>\n      <th>2</th>\n      <td>BC Cannabis Store WGE</td>\n      <td>Alternative Healer</td>\n      <td>Unit 106-2210 Main Street</td>\n      <td>CA</td>\n      <td>Penticton</td>\n      <td>Canada</td>\n      <td>46280</td>\n      <td>[Unit 106-2210 Main Street, Penticton BC V2A 5...</td>\n      <td>[{'label': 'display', 'lat': 49.4733, 'lng': -...</td>\n      <td>49.473300</td>\n      <td>-119.580850</td>\n      <td>V2A 5H8</td>\n      <td>BC</td>\n      <td>5e503a7d8fde1a00070a586a</td>\n    </tr>\n    <tr>\n      <th>3</th>\n      <td>Cannabis Cottage</td>\n      <td>Hospital</td>\n      <td>385 Martin St</td>\n      <td>CA</td>\n      <td>Penticton</td>\n      <td>Canada</td>\n      <td>43827</td>\n      <td>[385 Martin St, Penticton BC V2A 5K6, Canada]</td>\n      <td>[{'label': 'display', 'lat': 49.4971498, 'lng'...</td>\n      <td>49.497150</td>\n      <td>-119.593237</td>\n      <td>V2A 5K6</td>\n      <td>BC</td>\n      <td>5db92b809708410007a39085</td>\n    </tr>\n    <tr>\n      <th>4</th>\n      <td>Cheeba Cheebas Premium Cannabis</td>\n      <td>Marijuana Dispensary</td>\n      <td>1812 Byland Rd #1</td>\n      <td>CA</td>\n      <td>W Kelowna</td>\n      <td>Canada</td>\n      <td>38615</td>\n      <td>[1812 Byland Rd #1, W Kelowna BC V1Z 1A9, Canada]</td>\n      <td>[{'label': 'display', 'lat': 49.83551902134790...</td>\n      <td>49.835519</td>\n      <td>-120.008366</td>\n      <td>V1Z 1A9</td>\n      <td>BC</td>\n      <td>5ea378502ad6790008be897d</td>\n    </tr>\n  </tbody>\n</table>\n</div>"
                    },
                    "metadata": {}
                }
            ]
        },
        {
            "metadata": {},
            "cell_type": "code",
            "source": "dataframe_filtered.name",
            "execution_count": 10,
            "outputs": [
                {
                    "output_type": "execute_result",
                    "execution_count": 10,
                    "data": {
                        "text/plain": "0    Cheeba Cheebas Premium Cannabis\n1                     Oakum Cannabis\n2              BC Cannabis Store WGE\n3                   Cannabis Cottage\n4    Cheeba Cheebas Premium Cannabis\nName: name, dtype: object"
                    },
                    "metadata": {}
                }
            ]
        },
        {
            "metadata": {},
            "cell_type": "code",
            "source": "venues_map = folium.Map(location=[latitude, longitude], zoom_start=13) # generate map centred around downtown Kelowna\n\n# add a red circle marker to represent downtown Kelowna\nfolium.features.CircleMarker(\n    [latitude, longitude],\n    radius=10,\n    color='red',\n    popup='Downtown Kelowna',\n    fill = True,\n    fill_color = 'red',\n    fill_opacity = 0.6\n).add_to(venues_map)\n\n# add the Cannabis stores as blue circle markers\nfor lat, lng, label in zip(dataframe_filtered.lat, dataframe_filtered.lng, dataframe_filtered.categories):\n    folium.features.CircleMarker(\n        [lat, lng],\n        radius=5,\n        color='blue',\n        popup=label,\n        fill = True,\n        fill_color='blue',\n        fill_opacity=0.6\n    ).add_to(venues_map)\n\n# display map\nvenues_map",
            "execution_count": 11,
            "outputs": [
                {
                    "output_type": "execute_result",
                    "execution_count": 11,
                    "data": {
                        "text/plain": "<folium.folium.Map at 0x7fc660b4e2b0>",
                        "text/html": "<div style=\"width:100%;\"><div style=\"position:relative;width:100%;height:0;padding-bottom:60%;\"><span style=\"color:#565656\">Make this Notebook Trusted to load map: File -> Trust Notebook</span><iframe src=\"about:blank\" style=\"position:absolute;width:100%;height:100%;left:0;top:0;border:none !important;\" data-html=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 onload=\"this.contentDocument.open();this.contentDocument.write(atob(this.getAttribute('data-html')));this.contentDocument.close();\" allowfullscreen webkitallowfullscreen mozallowfullscreen></iframe></div></div>"
                    },
                    "metadata": {}
                }
            ]
        },
        {
            "metadata": {},
            "cell_type": "markdown",
            "source": "### Find the number of cannabis stores within 50km of Kamloops BC\n"
        },
        {
            "metadata": {},
            "cell_type": "code",
            "source": "CLIENT_ID = 'PEXIGFX3LYJO0WGLAJDNIRXPCSZBKGMZS5WC4VGOC3SL3PMA' # your Foursquare ID\nCLIENT_SECRET = 'BYEXMZSBUST4E5VQSJMATBRTWWACBGSPWTAGJNIONDZGEJSO' # your Foursquare Secret\nVERSION = '20180604'\nLIMIT = 30\nprint('Your credentails:')\nprint('CLIENT_ID: ' + CLIENT_ID)\nprint('CLIENT_SECRET:' + CLIENT_SECRET)",
            "execution_count": 13,
            "outputs": [
                {
                    "output_type": "stream",
                    "text": "Your credentails:\nCLIENT_ID: PEXIGFX3LYJO0WGLAJDNIRXPCSZBKGMZS5WC4VGOC3SL3PMA\nCLIENT_SECRET:BYEXMZSBUST4E5VQSJMATBRTWWACBGSPWTAGJNIONDZGEJSO\n",
                    "name": "stdout"
                }
            ]
        },
        {
            "metadata": {},
            "cell_type": "code",
            "source": "#Address is a busy downtown location in Kamloops BC \n\naddress = '465 Victoria St, Kamloops, BC'\ngeolocator = Nominatim(user_agent=\"foursquare_agent\")\nlocation = geolocator.geocode(address)\nlatitude = location.latitude\nlongitude = location.longitude\nprint(latitude, longitude)",
            "execution_count": 21,
            "outputs": [
                {
                    "output_type": "stream",
                    "text": "50.67557995 -120.33038586547488\n",
                    "name": "stdout"
                }
            ]
        },
        {
            "metadata": {},
            "cell_type": "code",
            "source": "search_query = 'Cannabis'\nradius = 50000\nprint(search_query + ' .... OK!')",
            "execution_count": 22,
            "outputs": [
                {
                    "output_type": "stream",
                    "text": "Cannabis .... OK!\n",
                    "name": "stdout"
                }
            ]
        },
        {
            "metadata": {},
            "cell_type": "code",
            "source": "url = 'https://api.foursquare.com/v2/venues/search?client_id={}&client_secret={}&ll={},{}&v={}&query={}&radius={}&limit={}'.format(CLIENT_ID, CLIENT_SECRET, latitude, longitude, VERSION, search_query, radius, LIMIT)\nurl",
            "execution_count": 15,
            "outputs": [
                {
                    "output_type": "execute_result",
                    "execution_count": 15,
                    "data": {
                        "text/plain": "'https://api.foursquare.com/v2/venues/search?client_id=PEXIGFX3LYJO0WGLAJDNIRXPCSZBKGMZS5WC4VGOC3SL3PMA&client_secret=BYEXMZSBUST4E5VQSJMATBRTWWACBGSPWTAGJNIONDZGEJSO&ll=50.666209,-120.351274&v=20180604&query=Cannabis&radius=50000&limit=30'"
                    },
                    "metadata": {}
                }
            ]
        },
        {
            "metadata": {},
            "cell_type": "code",
            "source": "results = requests.get(url).json()\nresults",
            "execution_count": 16,
            "outputs": [
                {
                    "output_type": "execute_result",
                    "execution_count": 16,
                    "data": {
                        "text/plain": "{'meta': {'code': 200, 'requestId': '5f0cc3b8efbbe10132131a54'},\n 'response': {'venues': [{'id': '5bc7861b911fc4002ca7bd51',\n    'name': 'Bc Cannabis Store',\n    'location': {'address': '1210 Summit Drive',\n     'lat': 50.665416,\n     'lng': -120.351916,\n     'labeledLatLngs': [{'label': 'display',\n       'lat': 50.665416,\n       'lng': -120.351916}],\n     'distance': 99,\n     'postalCode': 'V2C',\n     'cc': 'CA',\n     'city': 'Kamloops',\n     'state': 'BC',\n     'country': 'Canada',\n     'formattedAddress': ['1210 Summit Drive', 'Kamloops BC V2C', 'Canada']},\n    'categories': [{'id': '52c71aaf3cf9994f4e043d17',\n      'name': 'Marijuana Dispensary',\n      'pluralName': 'Marijuana Dispensaries',\n      'shortName': 'Dispensary',\n      'icon': {'prefix': 'https://ss3.4sqi.net/img/categories_v2/shops/dispensary_',\n       'suffix': '.png'},\n      'primary': True}],\n    'referralId': 'v-1594672073',\n    'hasPerk': False}]}}"
                    },
                    "metadata": {}
                }
            ]
        },
        {
            "metadata": {},
            "cell_type": "code",
            "source": "# assign relevant part of JSON to venues\nvenues = results['response']['venues']\n\n# tranform venues into a dataframe\ndataframe = json_normalize(venues)\ndataframe.head()",
            "execution_count": 17,
            "outputs": [
                {
                    "output_type": "execute_result",
                    "execution_count": 17,
                    "data": {
                        "text/plain": "                                          categories  hasPerk  \\\n0  [{'id': '52c71aaf3cf9994f4e043d17', 'name': 'M...    False   \n\n                         id   location.address location.cc location.city  \\\n0  5bc7861b911fc4002ca7bd51  1210 Summit Drive          CA      Kamloops   \n\n  location.country  location.distance  \\\n0           Canada                 99   \n\n                      location.formattedAddress  \\\n0  [1210 Summit Drive, Kamloops BC V2C, Canada]   \n\n                             location.labeledLatLngs  location.lat  \\\n0  [{'label': 'display', 'lat': 50.665416, 'lng':...     50.665416   \n\n   location.lng location.postalCode location.state               name  \\\n0   -120.351916                 V2C             BC  Bc Cannabis Store   \n\n     referralId  \n0  v-1594672073  ",
                        "text/html": "<div>\n<style scoped>\n    .dataframe tbody tr th:only-of-type {\n        vertical-align: middle;\n    }\n\n    .dataframe tbody tr th {\n        vertical-align: top;\n    }\n\n    .dataframe thead th {\n        text-align: right;\n    }\n</style>\n<table border=\"1\" class=\"dataframe\">\n  <thead>\n    <tr style=\"text-align: right;\">\n      <th></th>\n      <th>categories</th>\n      <th>hasPerk</th>\n      <th>id</th>\n      <th>location.address</th>\n      <th>location.cc</th>\n      <th>location.city</th>\n      <th>location.country</th>\n      <th>location.distance</th>\n      <th>location.formattedAddress</th>\n      <th>location.labeledLatLngs</th>\n      <th>location.lat</th>\n      <th>location.lng</th>\n      <th>location.postalCode</th>\n      <th>location.state</th>\n      <th>name</th>\n      <th>referralId</th>\n    </tr>\n  </thead>\n  <tbody>\n    <tr>\n      <th>0</th>\n      <td>[{'id': '52c71aaf3cf9994f4e043d17', 'name': 'M...</td>\n      <td>False</td>\n      <td>5bc7861b911fc4002ca7bd51</td>\n      <td>1210 Summit Drive</td>\n      <td>CA</td>\n      <td>Kamloops</td>\n      <td>Canada</td>\n      <td>99</td>\n      <td>[1210 Summit Drive, Kamloops BC V2C, Canada]</td>\n      <td>[{'label': 'display', 'lat': 50.665416, 'lng':...</td>\n      <td>50.665416</td>\n      <td>-120.351916</td>\n      <td>V2C</td>\n      <td>BC</td>\n      <td>Bc Cannabis Store</td>\n      <td>v-1594672073</td>\n    </tr>\n  </tbody>\n</table>\n</div>"
                    },
                    "metadata": {}
                }
            ]
        },
        {
            "metadata": {},
            "cell_type": "code",
            "source": "# keep only columns that include venue name, and anything that is associated with location\nfiltered_columns = ['name', 'categories'] + [col for col in dataframe.columns if col.startswith('location.')] + ['id']\ndataframe_filtered = dataframe.loc[:, filtered_columns]\n\n# function that extracts the category of the venue\ndef get_category_type(row):\n    try:\n        categories_list = row['categories']\n    except:\n        categories_list = row['venue.categories']\n        \n    if len(categories_list) == 0:\n        return None\n    else:\n        return categories_list[0]['name']\n\n# filter the category for each row\ndataframe_filtered['categories'] = dataframe_filtered.apply(get_category_type, axis=1)\n\n# clean column names by keeping only last term\ndataframe_filtered.columns = [column.split('.')[-1] for column in dataframe_filtered.columns]\n\ndataframe_filtered",
            "execution_count": 18,
            "outputs": [
                {
                    "output_type": "execute_result",
                    "execution_count": 18,
                    "data": {
                        "text/plain": "                name            categories            address  cc      city  \\\n0  Bc Cannabis Store  Marijuana Dispensary  1210 Summit Drive  CA  Kamloops   \n\n  country  distance                              formattedAddress  \\\n0  Canada        99  [1210 Summit Drive, Kamloops BC V2C, Canada]   \n\n                                      labeledLatLngs        lat         lng  \\\n0  [{'label': 'display', 'lat': 50.665416, 'lng':...  50.665416 -120.351916   \n\n  postalCode state                        id  \n0        V2C    BC  5bc7861b911fc4002ca7bd51  ",
                        "text/html": "<div>\n<style scoped>\n    .dataframe tbody tr th:only-of-type {\n        vertical-align: middle;\n    }\n\n    .dataframe tbody tr th {\n        vertical-align: top;\n    }\n\n    .dataframe thead th {\n        text-align: right;\n    }\n</style>\n<table border=\"1\" class=\"dataframe\">\n  <thead>\n    <tr style=\"text-align: right;\">\n      <th></th>\n      <th>name</th>\n      <th>categories</th>\n      <th>address</th>\n      <th>cc</th>\n      <th>city</th>\n      <th>country</th>\n      <th>distance</th>\n      <th>formattedAddress</th>\n      <th>labeledLatLngs</th>\n      <th>lat</th>\n      <th>lng</th>\n      <th>postalCode</th>\n      <th>state</th>\n      <th>id</th>\n    </tr>\n  </thead>\n  <tbody>\n    <tr>\n      <th>0</th>\n      <td>Bc Cannabis Store</td>\n      <td>Marijuana Dispensary</td>\n      <td>1210 Summit Drive</td>\n      <td>CA</td>\n      <td>Kamloops</td>\n      <td>Canada</td>\n      <td>99</td>\n      <td>[1210 Summit Drive, Kamloops BC V2C, Canada]</td>\n      <td>[{'label': 'display', 'lat': 50.665416, 'lng':...</td>\n      <td>50.665416</td>\n      <td>-120.351916</td>\n      <td>V2C</td>\n      <td>BC</td>\n      <td>5bc7861b911fc4002ca7bd51</td>\n    </tr>\n  </tbody>\n</table>\n</div>"
                    },
                    "metadata": {}
                }
            ]
        },
        {
            "metadata": {},
            "cell_type": "code",
            "source": "dataframe_filtered.name",
            "execution_count": 19,
            "outputs": [
                {
                    "output_type": "execute_result",
                    "execution_count": 19,
                    "data": {
                        "text/plain": "0    Bc Cannabis Store\nName: name, dtype: object"
                    },
                    "metadata": {}
                }
            ]
        },
        {
            "metadata": {},
            "cell_type": "code",
            "source": "venues_map = folium.Map(location=[latitude, longitude], zoom_start=13) # generate map centred around downtown Kamloops\n\n# add a red circle marker to represent downtown Kamloops\nfolium.features.CircleMarker(\n    [latitude, longitude],\n    radius=10,\n    color='red',\n    popup='Downtown Kamloops',\n    fill = True,\n    fill_color = 'red',\n    fill_opacity = 0.6\n).add_to(venues_map)\n\n# add the Cannabis Stores as blue circle markers\nfor lat, lng, label in zip(dataframe_filtered.lat, dataframe_filtered.lng, dataframe_filtered.categories):\n    folium.features.CircleMarker(\n        [lat, lng],\n        radius=5,\n        color='blue',\n        popup=label,\n        fill = True,\n        fill_color='blue',\n        fill_opacity=0.6\n    ).add_to(venues_map)\n\n# display map\nvenues_map",
            "execution_count": 23,
            "outputs": [
                {
                    "output_type": "execute_result",
                    "execution_count": 23,
                    "data": {
                        "text/plain": "<folium.folium.Map at 0x7fc660aa90f0>",
                        "text/html": "<div style=\"width:100%;\"><div style=\"position:relative;width:100%;height:0;padding-bottom:60%;\"><span style=\"color:#565656\">Make this Notebook Trusted to load map: File -> Trust Notebook</span><iframe src=\"about:blank\" style=\"position:absolute;width:100%;height:100%;left:0;top:0;border:none !important;\" data-html=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 onload=\"this.contentDocument.open();this.contentDocument.write(atob(this.getAttribute('data-html')));this.contentDocument.close();\" allowfullscreen webkitallowfullscreen mozallowfullscreen></iframe></div></div>"
                    },
                    "metadata": {}
                }
            ]
        },
        {
            "metadata": {},
            "cell_type": "markdown",
            "source": "### Discussion \n\nKelowna, BC has a population of 140,000 residents and a total of four cannabis stores within 50km.  This equates to 4 stores per 140,000 people.  \n\nKamloops, BC has a population of 90,000 residents with only one cannabis store within 50km.  This is 1 store per 90,000 residents or 2.59 times fewer stores than Kelowna, BC.\n\nFrom the Foursquare data, it would appear that Kamloops would be the preferred choice for opening a cannabis store, based on population alone.  \n\nFurther investigation required would be locations within the city, demographic comparisons for potential customers and proximity to other services that would maximize convenience, such as grocery stores, coffee shops and parks.  \n"
        },
        {
            "metadata": {},
            "cell_type": "code",
            "source": "",
            "execution_count": null,
            "outputs": []
        }
    ],
    "metadata": {
        "kernelspec": {
            "name": "python3",
            "display_name": "Python 3.6",
            "language": "python"
        },
        "language_info": {
            "name": "python",
            "version": "3.6.9",
            "mimetype": "text/x-python",
            "codemirror_mode": {
                "name": "ipython",
                "version": 3
            },
            "pygments_lexer": "ipython3",
            "nbconvert_exporter": "python",
            "file_extension": ".py"
        }
    },
    "nbformat": 4,
    "nbformat_minor": 1
}